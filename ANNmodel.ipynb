{
 "cells": [
  {
   "cell_type": "markdown",
   "id": "95c090b7-9e0f-47c8-852a-0b1731add8c0",
   "metadata": {},
   "source": [
    "## Data Preprocessing and Classification on the ILPD (Indian Liver Patient Dataset)"
   ]
  },
  {
   "cell_type": "markdown",
   "id": "ad05bcf2-b988-4ddc-93ec-f08b23b59eda",
   "metadata": {},
   "source": [
    "#### Dataset link : https://archive.ics.uci.edu/dataset/225/ilpd+indian+liver+patient+dataset"
   ]
  },
  {
   "cell_type": "markdown",
   "id": "a1134dea-dda1-4bc9-914f-8c86cbfd2257",
   "metadata": {},
   "source": [
    "### Importing the libraries"
   ]
  },
  {
   "cell_type": "code",
   "execution_count": 3,
   "id": "01e0a1f2-0a41-458c-9054-e03ba0843437",
   "metadata": {},
   "outputs": [],
   "source": [
    "import numpy as np\n",
    "import pandas as pd\n",
    "import tensorflow as tf"
   ]
  },
  {
   "cell_type": "markdown",
   "id": "250dfca7-d447-47b6-a71d-d40fcaab2f3b",
   "metadata": {},
   "source": [
    "### Reading the dataset"
   ]
  },
  {
   "cell_type": "code",
   "execution_count": 4,
   "id": "cabadd45-eb6b-436e-b6ec-c40ef7042af2",
   "metadata": {},
   "outputs": [
    {
     "data": {
      "text/html": [
       "<div>\n",
       "<style scoped>\n",
       "    .dataframe tbody tr th:only-of-type {\n",
       "        vertical-align: middle;\n",
       "    }\n",
       "\n",
       "    .dataframe tbody tr th {\n",
       "        vertical-align: top;\n",
       "    }\n",
       "\n",
       "    .dataframe thead th {\n",
       "        text-align: right;\n",
       "    }\n",
       "</style>\n",
       "<table border=\"1\" class=\"dataframe\">\n",
       "  <thead>\n",
       "    <tr style=\"text-align: right;\">\n",
       "      <th></th>\n",
       "      <th>Age</th>\n",
       "      <th>Gender</th>\n",
       "      <th>TB</th>\n",
       "      <th>DB</th>\n",
       "      <th>Alkphos</th>\n",
       "      <th>Sgpt</th>\n",
       "      <th>Sgot</th>\n",
       "      <th>TP</th>\n",
       "      <th>ALB</th>\n",
       "      <th>A/G Ratio</th>\n",
       "      <th>Target</th>\n",
       "    </tr>\n",
       "  </thead>\n",
       "  <tbody>\n",
       "    <tr>\n",
       "      <th>0</th>\n",
       "      <td>65</td>\n",
       "      <td>Female</td>\n",
       "      <td>0.7</td>\n",
       "      <td>0.1</td>\n",
       "      <td>187</td>\n",
       "      <td>16</td>\n",
       "      <td>18</td>\n",
       "      <td>6.8</td>\n",
       "      <td>3.3</td>\n",
       "      <td>0.90</td>\n",
       "      <td>1</td>\n",
       "    </tr>\n",
       "    <tr>\n",
       "      <th>1</th>\n",
       "      <td>62</td>\n",
       "      <td>Male</td>\n",
       "      <td>10.9</td>\n",
       "      <td>5.5</td>\n",
       "      <td>699</td>\n",
       "      <td>64</td>\n",
       "      <td>100</td>\n",
       "      <td>7.5</td>\n",
       "      <td>3.2</td>\n",
       "      <td>0.74</td>\n",
       "      <td>1</td>\n",
       "    </tr>\n",
       "    <tr>\n",
       "      <th>2</th>\n",
       "      <td>62</td>\n",
       "      <td>Male</td>\n",
       "      <td>7.3</td>\n",
       "      <td>4.1</td>\n",
       "      <td>490</td>\n",
       "      <td>60</td>\n",
       "      <td>68</td>\n",
       "      <td>7.0</td>\n",
       "      <td>3.3</td>\n",
       "      <td>0.89</td>\n",
       "      <td>1</td>\n",
       "    </tr>\n",
       "    <tr>\n",
       "      <th>3</th>\n",
       "      <td>58</td>\n",
       "      <td>Male</td>\n",
       "      <td>1.0</td>\n",
       "      <td>0.4</td>\n",
       "      <td>182</td>\n",
       "      <td>14</td>\n",
       "      <td>20</td>\n",
       "      <td>6.8</td>\n",
       "      <td>3.4</td>\n",
       "      <td>1.00</td>\n",
       "      <td>1</td>\n",
       "    </tr>\n",
       "    <tr>\n",
       "      <th>4</th>\n",
       "      <td>72</td>\n",
       "      <td>Male</td>\n",
       "      <td>3.9</td>\n",
       "      <td>2.0</td>\n",
       "      <td>195</td>\n",
       "      <td>27</td>\n",
       "      <td>59</td>\n",
       "      <td>7.3</td>\n",
       "      <td>2.4</td>\n",
       "      <td>0.40</td>\n",
       "      <td>1</td>\n",
       "    </tr>\n",
       "  </tbody>\n",
       "</table>\n",
       "</div>"
      ],
      "text/plain": [
       "   Age  Gender    TB   DB  Alkphos  Sgpt  Sgot   TP  ALB  A/G Ratio  Target\n",
       "0   65  Female   0.7  0.1      187    16    18  6.8  3.3       0.90       1\n",
       "1   62    Male  10.9  5.5      699    64   100  7.5  3.2       0.74       1\n",
       "2   62    Male   7.3  4.1      490    60    68  7.0  3.3       0.89       1\n",
       "3   58    Male   1.0  0.4      182    14    20  6.8  3.4       1.00       1\n",
       "4   72    Male   3.9  2.0      195    27    59  7.3  2.4       0.40       1"
      ]
     },
     "execution_count": 4,
     "metadata": {},
     "output_type": "execute_result"
    }
   ],
   "source": [
    "df=pd.read_csv('dataset.csv',header=None)\n",
    "df.columns=['Age','Gender','TB','DB','Alkphos','Sgpt','Sgot','TP','ALB','A/G Ratio','Target']\n",
    "df.head()"
   ]
  },
  {
   "cell_type": "markdown",
   "id": "3145fc27-ad71-4507-9cd8-1079444a8d66",
   "metadata": {},
   "source": [
    "##### Target : 1->diagnosed with liver disease , 2->not diagnosed"
   ]
  },
  {
   "cell_type": "markdown",
   "id": "0beee337-0a6e-4cfd-8e3e-39221055dd3f",
   "metadata": {},
   "source": [
    "## Exploratory Data Analysis"
   ]
  },
  {
   "cell_type": "code",
   "execution_count": 5,
   "id": "ae8964e7-c0e4-40e8-8316-b434c35fcaf2",
   "metadata": {},
   "outputs": [
    {
     "data": {
      "text/html": [
       "<div>\n",
       "<style scoped>\n",
       "    .dataframe tbody tr th:only-of-type {\n",
       "        vertical-align: middle;\n",
       "    }\n",
       "\n",
       "    .dataframe tbody tr th {\n",
       "        vertical-align: top;\n",
       "    }\n",
       "\n",
       "    .dataframe thead th {\n",
       "        text-align: right;\n",
       "    }\n",
       "</style>\n",
       "<table border=\"1\" class=\"dataframe\">\n",
       "  <thead>\n",
       "    <tr style=\"text-align: right;\">\n",
       "      <th></th>\n",
       "      <th>Age</th>\n",
       "      <th>TB</th>\n",
       "      <th>DB</th>\n",
       "      <th>Alkphos</th>\n",
       "      <th>Sgpt</th>\n",
       "      <th>Sgot</th>\n",
       "      <th>TP</th>\n",
       "      <th>ALB</th>\n",
       "      <th>A/G Ratio</th>\n",
       "      <th>Target</th>\n",
       "    </tr>\n",
       "  </thead>\n",
       "  <tbody>\n",
       "    <tr>\n",
       "      <th>count</th>\n",
       "      <td>583.000000</td>\n",
       "      <td>583.000000</td>\n",
       "      <td>583.000000</td>\n",
       "      <td>583.000000</td>\n",
       "      <td>583.000000</td>\n",
       "      <td>583.000000</td>\n",
       "      <td>583.000000</td>\n",
       "      <td>583.000000</td>\n",
       "      <td>579.000000</td>\n",
       "      <td>583.000000</td>\n",
       "    </tr>\n",
       "    <tr>\n",
       "      <th>mean</th>\n",
       "      <td>44.746141</td>\n",
       "      <td>3.298799</td>\n",
       "      <td>1.486106</td>\n",
       "      <td>290.576329</td>\n",
       "      <td>80.713551</td>\n",
       "      <td>109.910806</td>\n",
       "      <td>6.483190</td>\n",
       "      <td>3.141852</td>\n",
       "      <td>0.947064</td>\n",
       "      <td>1.286449</td>\n",
       "    </tr>\n",
       "    <tr>\n",
       "      <th>std</th>\n",
       "      <td>16.189833</td>\n",
       "      <td>6.209522</td>\n",
       "      <td>2.808498</td>\n",
       "      <td>242.937989</td>\n",
       "      <td>182.620356</td>\n",
       "      <td>288.918529</td>\n",
       "      <td>1.085451</td>\n",
       "      <td>0.795519</td>\n",
       "      <td>0.319592</td>\n",
       "      <td>0.452490</td>\n",
       "    </tr>\n",
       "    <tr>\n",
       "      <th>min</th>\n",
       "      <td>4.000000</td>\n",
       "      <td>0.400000</td>\n",
       "      <td>0.100000</td>\n",
       "      <td>63.000000</td>\n",
       "      <td>10.000000</td>\n",
       "      <td>10.000000</td>\n",
       "      <td>2.700000</td>\n",
       "      <td>0.900000</td>\n",
       "      <td>0.300000</td>\n",
       "      <td>1.000000</td>\n",
       "    </tr>\n",
       "    <tr>\n",
       "      <th>25%</th>\n",
       "      <td>33.000000</td>\n",
       "      <td>0.800000</td>\n",
       "      <td>0.200000</td>\n",
       "      <td>175.500000</td>\n",
       "      <td>23.000000</td>\n",
       "      <td>25.000000</td>\n",
       "      <td>5.800000</td>\n",
       "      <td>2.600000</td>\n",
       "      <td>0.700000</td>\n",
       "      <td>1.000000</td>\n",
       "    </tr>\n",
       "    <tr>\n",
       "      <th>50%</th>\n",
       "      <td>45.000000</td>\n",
       "      <td>1.000000</td>\n",
       "      <td>0.300000</td>\n",
       "      <td>208.000000</td>\n",
       "      <td>35.000000</td>\n",
       "      <td>42.000000</td>\n",
       "      <td>6.600000</td>\n",
       "      <td>3.100000</td>\n",
       "      <td>0.930000</td>\n",
       "      <td>1.000000</td>\n",
       "    </tr>\n",
       "    <tr>\n",
       "      <th>75%</th>\n",
       "      <td>58.000000</td>\n",
       "      <td>2.600000</td>\n",
       "      <td>1.300000</td>\n",
       "      <td>298.000000</td>\n",
       "      <td>60.500000</td>\n",
       "      <td>87.000000</td>\n",
       "      <td>7.200000</td>\n",
       "      <td>3.800000</td>\n",
       "      <td>1.100000</td>\n",
       "      <td>2.000000</td>\n",
       "    </tr>\n",
       "    <tr>\n",
       "      <th>max</th>\n",
       "      <td>90.000000</td>\n",
       "      <td>75.000000</td>\n",
       "      <td>19.700000</td>\n",
       "      <td>2110.000000</td>\n",
       "      <td>2000.000000</td>\n",
       "      <td>4929.000000</td>\n",
       "      <td>9.600000</td>\n",
       "      <td>5.500000</td>\n",
       "      <td>2.800000</td>\n",
       "      <td>2.000000</td>\n",
       "    </tr>\n",
       "  </tbody>\n",
       "</table>\n",
       "</div>"
      ],
      "text/plain": [
       "              Age          TB          DB      Alkphos         Sgpt  \\\n",
       "count  583.000000  583.000000  583.000000   583.000000   583.000000   \n",
       "mean    44.746141    3.298799    1.486106   290.576329    80.713551   \n",
       "std     16.189833    6.209522    2.808498   242.937989   182.620356   \n",
       "min      4.000000    0.400000    0.100000    63.000000    10.000000   \n",
       "25%     33.000000    0.800000    0.200000   175.500000    23.000000   \n",
       "50%     45.000000    1.000000    0.300000   208.000000    35.000000   \n",
       "75%     58.000000    2.600000    1.300000   298.000000    60.500000   \n",
       "max     90.000000   75.000000   19.700000  2110.000000  2000.000000   \n",
       "\n",
       "              Sgot          TP         ALB   A/G Ratio      Target  \n",
       "count   583.000000  583.000000  583.000000  579.000000  583.000000  \n",
       "mean    109.910806    6.483190    3.141852    0.947064    1.286449  \n",
       "std     288.918529    1.085451    0.795519    0.319592    0.452490  \n",
       "min      10.000000    2.700000    0.900000    0.300000    1.000000  \n",
       "25%      25.000000    5.800000    2.600000    0.700000    1.000000  \n",
       "50%      42.000000    6.600000    3.100000    0.930000    1.000000  \n",
       "75%      87.000000    7.200000    3.800000    1.100000    2.000000  \n",
       "max    4929.000000    9.600000    5.500000    2.800000    2.000000  "
      ]
     },
     "execution_count": 5,
     "metadata": {},
     "output_type": "execute_result"
    }
   ],
   "source": [
    "df.describe()"
   ]
  },
  {
   "cell_type": "code",
   "execution_count": 6,
   "id": "56fbc69e-8900-402a-8fe8-398e6f3922e2",
   "metadata": {},
   "outputs": [
    {
     "name": "stdout",
     "output_type": "stream",
     "text": [
      "<class 'pandas.core.frame.DataFrame'>\n",
      "RangeIndex: 583 entries, 0 to 582\n",
      "Data columns (total 11 columns):\n",
      " #   Column     Non-Null Count  Dtype  \n",
      "---  ------     --------------  -----  \n",
      " 0   Age        583 non-null    int64  \n",
      " 1   Gender     583 non-null    object \n",
      " 2   TB         583 non-null    float64\n",
      " 3   DB         583 non-null    float64\n",
      " 4   Alkphos    583 non-null    int64  \n",
      " 5   Sgpt       583 non-null    int64  \n",
      " 6   Sgot       583 non-null    int64  \n",
      " 7   TP         583 non-null    float64\n",
      " 8   ALB        583 non-null    float64\n",
      " 9   A/G Ratio  579 non-null    float64\n",
      " 10  Target     583 non-null    int64  \n",
      "dtypes: float64(5), int64(5), object(1)\n",
      "memory usage: 50.2+ KB\n"
     ]
    }
   ],
   "source": [
    "df.info() #checking all the attributes"
   ]
  },
  {
   "cell_type": "markdown",
   "id": "7cd16e7d-6bab-4524-8d61-a82e037da2a1",
   "metadata": {},
   "source": [
    "### Checking for Null values : "
   ]
  },
  {
   "cell_type": "code",
   "execution_count": 7,
   "id": "849d9380-0e77-4dbc-a0af-b83de737122d",
   "metadata": {},
   "outputs": [
    {
     "data": {
      "text/plain": [
       "Age          0\n",
       "Gender       0\n",
       "TB           0\n",
       "DB           0\n",
       "Alkphos      0\n",
       "Sgpt         0\n",
       "Sgot         0\n",
       "TP           0\n",
       "ALB          0\n",
       "A/G Ratio    4\n",
       "Target       0\n",
       "dtype: int64"
      ]
     },
     "execution_count": 7,
     "metadata": {},
     "output_type": "execute_result"
    }
   ],
   "source": [
    "df.isnull().sum()"
   ]
  },
  {
   "cell_type": "markdown",
   "id": "1cedd116-69aa-4ba1-b8d2-81a2f961151a",
   "metadata": {},
   "source": [
    "#### Clearly the A/G Ratio Column has 4 NULL Values. Hence we need to drop these rows."
   ]
  },
  {
   "cell_type": "code",
   "execution_count": 8,
   "id": "b969594d-2f48-43df-96ee-da296b69cb24",
   "metadata": {},
   "outputs": [],
   "source": [
    "df=df.dropna()"
   ]
  },
  {
   "cell_type": "code",
   "execution_count": 9,
   "id": "1edf2d1a-0da5-47e0-b9f0-ebc5cae81e3e",
   "metadata": {},
   "outputs": [
    {
     "name": "stdout",
     "output_type": "stream",
     "text": [
      "<class 'pandas.core.frame.DataFrame'>\n",
      "Int64Index: 579 entries, 0 to 582\n",
      "Data columns (total 11 columns):\n",
      " #   Column     Non-Null Count  Dtype  \n",
      "---  ------     --------------  -----  \n",
      " 0   Age        579 non-null    int64  \n",
      " 1   Gender     579 non-null    object \n",
      " 2   TB         579 non-null    float64\n",
      " 3   DB         579 non-null    float64\n",
      " 4   Alkphos    579 non-null    int64  \n",
      " 5   Sgpt       579 non-null    int64  \n",
      " 6   Sgot       579 non-null    int64  \n",
      " 7   TP         579 non-null    float64\n",
      " 8   ALB        579 non-null    float64\n",
      " 9   A/G Ratio  579 non-null    float64\n",
      " 10  Target     579 non-null    int64  \n",
      "dtypes: float64(5), int64(5), object(1)\n",
      "memory usage: 54.3+ KB\n"
     ]
    }
   ],
   "source": [
    "df.info()  #re-checking for missing values"
   ]
  },
  {
   "cell_type": "markdown",
   "id": "0a7eeece-8dbc-4831-9d09-96a35ad4c05c",
   "metadata": {},
   "source": [
    "### Encoding Categorical Variables"
   ]
  },
  {
   "cell_type": "code",
   "execution_count": 10,
   "id": "904ad7fe-af94-4432-8e14-4d412956f1f3",
   "metadata": {},
   "outputs": [
    {
     "data": {
      "text/html": [
       "<div>\n",
       "<style scoped>\n",
       "    .dataframe tbody tr th:only-of-type {\n",
       "        vertical-align: middle;\n",
       "    }\n",
       "\n",
       "    .dataframe tbody tr th {\n",
       "        vertical-align: top;\n",
       "    }\n",
       "\n",
       "    .dataframe thead th {\n",
       "        text-align: right;\n",
       "    }\n",
       "</style>\n",
       "<table border=\"1\" class=\"dataframe\">\n",
       "  <thead>\n",
       "    <tr style=\"text-align: right;\">\n",
       "      <th></th>\n",
       "      <th>Age</th>\n",
       "      <th>Gender</th>\n",
       "      <th>TB</th>\n",
       "      <th>DB</th>\n",
       "      <th>Alkphos</th>\n",
       "      <th>Sgpt</th>\n",
       "      <th>Sgot</th>\n",
       "      <th>TP</th>\n",
       "      <th>ALB</th>\n",
       "      <th>A/G Ratio</th>\n",
       "      <th>Target</th>\n",
       "    </tr>\n",
       "  </thead>\n",
       "  <tbody>\n",
       "    <tr>\n",
       "      <th>0</th>\n",
       "      <td>65</td>\n",
       "      <td>1</td>\n",
       "      <td>0.7</td>\n",
       "      <td>0.1</td>\n",
       "      <td>187</td>\n",
       "      <td>16</td>\n",
       "      <td>18</td>\n",
       "      <td>6.8</td>\n",
       "      <td>3.3</td>\n",
       "      <td>0.90</td>\n",
       "      <td>1</td>\n",
       "    </tr>\n",
       "    <tr>\n",
       "      <th>1</th>\n",
       "      <td>62</td>\n",
       "      <td>0</td>\n",
       "      <td>10.9</td>\n",
       "      <td>5.5</td>\n",
       "      <td>699</td>\n",
       "      <td>64</td>\n",
       "      <td>100</td>\n",
       "      <td>7.5</td>\n",
       "      <td>3.2</td>\n",
       "      <td>0.74</td>\n",
       "      <td>1</td>\n",
       "    </tr>\n",
       "    <tr>\n",
       "      <th>2</th>\n",
       "      <td>62</td>\n",
       "      <td>0</td>\n",
       "      <td>7.3</td>\n",
       "      <td>4.1</td>\n",
       "      <td>490</td>\n",
       "      <td>60</td>\n",
       "      <td>68</td>\n",
       "      <td>7.0</td>\n",
       "      <td>3.3</td>\n",
       "      <td>0.89</td>\n",
       "      <td>1</td>\n",
       "    </tr>\n",
       "    <tr>\n",
       "      <th>3</th>\n",
       "      <td>58</td>\n",
       "      <td>0</td>\n",
       "      <td>1.0</td>\n",
       "      <td>0.4</td>\n",
       "      <td>182</td>\n",
       "      <td>14</td>\n",
       "      <td>20</td>\n",
       "      <td>6.8</td>\n",
       "      <td>3.4</td>\n",
       "      <td>1.00</td>\n",
       "      <td>1</td>\n",
       "    </tr>\n",
       "    <tr>\n",
       "      <th>4</th>\n",
       "      <td>72</td>\n",
       "      <td>0</td>\n",
       "      <td>3.9</td>\n",
       "      <td>2.0</td>\n",
       "      <td>195</td>\n",
       "      <td>27</td>\n",
       "      <td>59</td>\n",
       "      <td>7.3</td>\n",
       "      <td>2.4</td>\n",
       "      <td>0.40</td>\n",
       "      <td>1</td>\n",
       "    </tr>\n",
       "  </tbody>\n",
       "</table>\n",
       "</div>"
      ],
      "text/plain": [
       "   Age  Gender    TB   DB  Alkphos  Sgpt  Sgot   TP  ALB  A/G Ratio  Target\n",
       "0   65       1   0.7  0.1      187    16    18  6.8  3.3       0.90       1\n",
       "1   62       0  10.9  5.5      699    64   100  7.5  3.2       0.74       1\n",
       "2   62       0   7.3  4.1      490    60    68  7.0  3.3       0.89       1\n",
       "3   58       0   1.0  0.4      182    14    20  6.8  3.4       1.00       1\n",
       "4   72       0   3.9  2.0      195    27    59  7.3  2.4       0.40       1"
      ]
     },
     "execution_count": 10,
     "metadata": {},
     "output_type": "execute_result"
    }
   ],
   "source": [
    "df['Gender']=df['Gender'].map({\"Female\":1,\"Male\":0})  #encoding categorical variable gender as female:1 male:0\n",
    "df.head()"
   ]
  },
  {
   "cell_type": "markdown",
   "id": "f710d694-994f-4e92-8950-0b10e15eab4d",
   "metadata": {},
   "source": [
    "## Balancing the data"
   ]
  },
  {
   "cell_type": "code",
   "execution_count": 11,
   "id": "83977d82-4b35-4c42-b83b-b62e50c72e7f",
   "metadata": {},
   "outputs": [
    {
     "data": {
      "text/plain": [
       "1    414\n",
       "2    165\n",
       "Name: Target, dtype: int64"
      ]
     },
     "execution_count": 11,
     "metadata": {},
     "output_type": "execute_result"
    }
   ],
   "source": [
    "df['Target'].value_counts()"
   ]
  },
  {
   "cell_type": "markdown",
   "id": "3dd70efd-d22e-434a-a666-a5c6fcd303b7",
   "metadata": {},
   "source": [
    "### The Data is imbalanced. \n",
    "##### Now we have 2 options. \n",
    "##### 1) Oversample the data using SMOTE\n",
    "##### 2) Undersample the majority data\n",
    "#### Since it is a medical dataset, I choose undersampling.\n",
    "\n",
    "### So now undersampling the data to reduce the number of 1's to 190"
   ]
  },
  {
   "cell_type": "code",
   "execution_count": 12,
   "id": "6ad8d19e-8557-4e05-9673-3d6bda167343",
   "metadata": {},
   "outputs": [
    {
     "name": "stdout",
     "output_type": "stream",
     "text": [
      "Number of 1's: 190\n",
      "Number of 2's: 165\n"
     ]
    }
   ],
   "source": [
    "ones_indices = df[df.iloc[:, -1] == 1].index[:190]  # Get the first 190 indices for 1's\n",
    "zeros_indices = df[df.iloc[:, -1] == 2].index       # Get all indices for 2's\n",
    "\n",
    "balanced_indices = ones_indices.union(zeros_indices)\n",
    "df_balanced = df.loc[balanced_indices].reset_index(drop=True)\n",
    "\n",
    "num_ones = df_balanced[df_balanced.iloc[:, -1] == 1].shape[0]\n",
    "num_twos = df_balanced[df_balanced.iloc[:, -1] == 2].shape[0]\n",
    "\n",
    "print(\"Number of 1's:\", num_ones)  # Should be 190\n",
    "print(\"Number of 2's:\", num_twos)  # Should be 165"
   ]
  },
  {
   "cell_type": "code",
   "execution_count": 13,
   "id": "cda549b2-0aa7-4890-9acc-cb3cd0ddba7a",
   "metadata": {},
   "outputs": [
    {
     "data": {
      "text/plain": [
       "355"
      ]
     },
     "execution_count": 13,
     "metadata": {},
     "output_type": "execute_result"
    }
   ],
   "source": [
    "df=df_balanced\n",
    "len(df)"
   ]
  },
  {
   "cell_type": "code",
   "execution_count": 14,
   "id": "04c0a3c8-1bf3-4637-8e70-c95d7e6adc25",
   "metadata": {},
   "outputs": [],
   "source": [
    "df['Target']=df['Target'].map({1:1,2:0})  #Mapping all 2's to 0's for the classification."
   ]
  },
  {
   "cell_type": "markdown",
   "id": "c681d2aa-cb6b-483c-a155-825525135b4b",
   "metadata": {},
   "source": [
    "##### Target : 1->diagnosed with liver disease , 0->not diagnosed"
   ]
  },
  {
   "cell_type": "markdown",
   "id": "62822830-f27d-4e47-8616-7bac76e5214d",
   "metadata": {},
   "source": [
    "### Declaring the inputs and targets"
   ]
  },
  {
   "cell_type": "code",
   "execution_count": 15,
   "id": "46b8ea51-9a8e-4c3e-96d5-8bcd17fa0803",
   "metadata": {},
   "outputs": [
    {
     "data": {
      "text/html": [
       "<div>\n",
       "<style scoped>\n",
       "    .dataframe tbody tr th:only-of-type {\n",
       "        vertical-align: middle;\n",
       "    }\n",
       "\n",
       "    .dataframe tbody tr th {\n",
       "        vertical-align: top;\n",
       "    }\n",
       "\n",
       "    .dataframe thead th {\n",
       "        text-align: right;\n",
       "    }\n",
       "</style>\n",
       "<table border=\"1\" class=\"dataframe\">\n",
       "  <thead>\n",
       "    <tr style=\"text-align: right;\">\n",
       "      <th></th>\n",
       "      <th>Age</th>\n",
       "      <th>Gender</th>\n",
       "      <th>TB</th>\n",
       "      <th>DB</th>\n",
       "      <th>Alkphos</th>\n",
       "      <th>Sgpt</th>\n",
       "      <th>Sgot</th>\n",
       "      <th>TP</th>\n",
       "      <th>ALB</th>\n",
       "      <th>A/G Ratio</th>\n",
       "    </tr>\n",
       "  </thead>\n",
       "  <tbody>\n",
       "    <tr>\n",
       "      <th>0</th>\n",
       "      <td>65</td>\n",
       "      <td>1</td>\n",
       "      <td>0.7</td>\n",
       "      <td>0.1</td>\n",
       "      <td>187</td>\n",
       "      <td>16</td>\n",
       "      <td>18</td>\n",
       "      <td>6.8</td>\n",
       "      <td>3.3</td>\n",
       "      <td>0.90</td>\n",
       "    </tr>\n",
       "    <tr>\n",
       "      <th>1</th>\n",
       "      <td>62</td>\n",
       "      <td>0</td>\n",
       "      <td>10.9</td>\n",
       "      <td>5.5</td>\n",
       "      <td>699</td>\n",
       "      <td>64</td>\n",
       "      <td>100</td>\n",
       "      <td>7.5</td>\n",
       "      <td>3.2</td>\n",
       "      <td>0.74</td>\n",
       "    </tr>\n",
       "    <tr>\n",
       "      <th>2</th>\n",
       "      <td>62</td>\n",
       "      <td>0</td>\n",
       "      <td>7.3</td>\n",
       "      <td>4.1</td>\n",
       "      <td>490</td>\n",
       "      <td>60</td>\n",
       "      <td>68</td>\n",
       "      <td>7.0</td>\n",
       "      <td>3.3</td>\n",
       "      <td>0.89</td>\n",
       "    </tr>\n",
       "    <tr>\n",
       "      <th>3</th>\n",
       "      <td>58</td>\n",
       "      <td>0</td>\n",
       "      <td>1.0</td>\n",
       "      <td>0.4</td>\n",
       "      <td>182</td>\n",
       "      <td>14</td>\n",
       "      <td>20</td>\n",
       "      <td>6.8</td>\n",
       "      <td>3.4</td>\n",
       "      <td>1.00</td>\n",
       "    </tr>\n",
       "    <tr>\n",
       "      <th>4</th>\n",
       "      <td>72</td>\n",
       "      <td>0</td>\n",
       "      <td>3.9</td>\n",
       "      <td>2.0</td>\n",
       "      <td>195</td>\n",
       "      <td>27</td>\n",
       "      <td>59</td>\n",
       "      <td>7.3</td>\n",
       "      <td>2.4</td>\n",
       "      <td>0.40</td>\n",
       "    </tr>\n",
       "  </tbody>\n",
       "</table>\n",
       "</div>"
      ],
      "text/plain": [
       "   Age  Gender    TB   DB  Alkphos  Sgpt  Sgot   TP  ALB  A/G Ratio\n",
       "0   65       1   0.7  0.1      187    16    18  6.8  3.3       0.90\n",
       "1   62       0  10.9  5.5      699    64   100  7.5  3.2       0.74\n",
       "2   62       0   7.3  4.1      490    60    68  7.0  3.3       0.89\n",
       "3   58       0   1.0  0.4      182    14    20  6.8  3.4       1.00\n",
       "4   72       0   3.9  2.0      195    27    59  7.3  2.4       0.40"
      ]
     },
     "execution_count": 15,
     "metadata": {},
     "output_type": "execute_result"
    }
   ],
   "source": [
    "inputs=df.iloc[:,0:-1]\n",
    "targets=df.iloc[:,-1]\n",
    "\n",
    "inputs.head()"
   ]
  },
  {
   "cell_type": "markdown",
   "id": "a4d3a4aa-e0e2-48fb-8419-214e90f48a85",
   "metadata": {},
   "source": [
    "### Scaling the inputs"
   ]
  },
  {
   "cell_type": "code",
   "execution_count": 16,
   "id": "189eecfb-124e-4544-93d7-163fe3ef7a56",
   "metadata": {},
   "outputs": [
    {
     "data": {
      "text/plain": [
       "array([[ 1.22528982,  1.79615993, -0.34518268, ...,  0.42104908,\n",
       "         0.21345894, -0.21644398],\n",
       "       [ 1.04470116, -0.5567433 ,  1.59055604, ...,  1.08876253,\n",
       "         0.0871624 , -0.75424006],\n",
       "       [ 1.04470116, -0.5567433 ,  0.90735414, ...,  0.61182436,\n",
       "         0.21345894, -0.25005624],\n",
       "       ...,\n",
       "       [ 0.32234652,  1.79615993, -0.28824919, ...,  1.37492544,\n",
       "         1.0975347 ,  0.11967856],\n",
       "       [ 0.92430872, -0.5567433 , -0.38313834, ..., -0.43743964,\n",
       "        -1.9335822 , -1.99789348],\n",
       "       [-0.40000812, -0.5567433 , -0.28824919, ...,  0.89798726,\n",
       "         1.60272085,  1.8002913 ]])"
      ]
     },
     "execution_count": 16,
     "metadata": {},
     "output_type": "execute_result"
    }
   ],
   "source": [
    "from sklearn.preprocessing import StandardScaler\n",
    "sc = StandardScaler()\n",
    "\n",
    "inputs = sc.fit_transform(inputs)\n",
    "\n",
    "inputs"
   ]
  },
  {
   "cell_type": "markdown",
   "id": "fd196539-1f76-470f-bea9-aec5a385d945",
   "metadata": {},
   "source": [
    "### Train test Split the data"
   ]
  },
  {
   "cell_type": "code",
   "execution_count": 17,
   "id": "a3d67c5d-c959-45f5-a2b6-8ec034762508",
   "metadata": {},
   "outputs": [],
   "source": [
    "from sklearn.model_selection import train_test_split\n",
    "x_train, x_test, y_train, y_test = train_test_split(inputs, targets, test_size = 0.2, random_state = 365)\n",
    "y_train=y_train.to_numpy()  #Converting from pandas series to numpy array.\n",
    "y_test=y_test.to_numpy()"
   ]
  },
  {
   "cell_type": "markdown",
   "id": "90610d08-b171-48ae-9bdb-706b62dde88f",
   "metadata": {},
   "source": [
    "# Classification"
   ]
  },
  {
   "cell_type": "markdown",
   "id": "c6ab650f-7aee-4ad3-98f7-b1f68e504cff",
   "metadata": {},
   "source": [
    "## Artificial Neural Network (ANN)"
   ]
  },
  {
   "cell_type": "markdown",
   "id": "b17d3d52-341c-42ed-b3c2-e9365906e0e8",
   "metadata": {},
   "source": [
    "### Creating the Model"
   ]
  },
  {
   "cell_type": "code",
   "execution_count": 18,
   "id": "428d8a0f-3f10-4dec-9fd4-2cc513a85aaa",
   "metadata": {},
   "outputs": [],
   "source": [
    "tf.random.set_seed(42)  #setting the weights"
   ]
  },
  {
   "cell_type": "code",
   "execution_count": 19,
   "id": "171cad63-f6fa-4a43-96bd-3020732e476c",
   "metadata": {},
   "outputs": [],
   "source": [
    "output_size = 1\n",
    "hidden_layer_size = 15\n",
    "\n",
    "model = tf.keras.models.Sequential([\n",
    "    tf.keras.layers.Dense(hidden_layer_size, activation='relu'), \n",
    "    tf.keras.layers.Dense(hidden_layer_size, activation='relu'), \n",
    "    tf.keras.layers.Dense(hidden_layer_size, activation='relu'), \n",
    "    tf.keras.layers.Dense(output_size, activation='sigmoid') \n",
    "])"
   ]
  },
  {
   "cell_type": "code",
   "execution_count": 20,
   "id": "dbd19ed8-a208-4d4d-b4d3-3ce466de960e",
   "metadata": {},
   "outputs": [],
   "source": [
    "model.compile(optimizer='adam', loss='binary_crossentropy', metrics=['accuracy'])"
   ]
  },
  {
   "cell_type": "code",
   "execution_count": 21,
   "id": "a5ac9661-a14e-41e0-90f3-e2eee89edc36",
   "metadata": {
    "scrolled": true
   },
   "outputs": [
    {
     "name": "stdout",
     "output_type": "stream",
     "text": [
      "Train on 284 samples\n",
      "Epoch 1/90\n",
      "284/284 [==============================] - 0s 2ms/sample - loss: 0.7003 - accuracy: 0.5070\n",
      "Epoch 2/90\n",
      "284/284 [==============================] - 0s 51us/sample - loss: 0.6797 - accuracy: 0.5880\n",
      "Epoch 3/90\n",
      "284/284 [==============================] - 0s 48us/sample - loss: 0.6650 - accuracy: 0.6408\n",
      "Epoch 4/90\n",
      "284/284 [==============================] - 0s 51us/sample - loss: 0.6521 - accuracy: 0.6655\n",
      "Epoch 5/90\n",
      "284/284 [==============================] - 0s 48us/sample - loss: 0.6419 - accuracy: 0.6514\n",
      "Epoch 6/90\n",
      "284/284 [==============================] - 0s 51us/sample - loss: 0.6310 - accuracy: 0.6761\n",
      "Epoch 7/90\n",
      "284/284 [==============================] - 0s 52us/sample - loss: 0.6215 - accuracy: 0.6761\n",
      "Epoch 8/90\n",
      "284/284 [==============================] - 0s 49us/sample - loss: 0.6116 - accuracy: 0.6901\n",
      "Epoch 9/90\n",
      "284/284 [==============================] - 0s 48us/sample - loss: 0.6020 - accuracy: 0.6901\n",
      "Epoch 10/90\n",
      "284/284 [==============================] - 0s 54us/sample - loss: 0.5938 - accuracy: 0.6761\n",
      "Epoch 11/90\n",
      "284/284 [==============================] - 0s 46us/sample - loss: 0.5853 - accuracy: 0.6831\n",
      "Epoch 12/90\n",
      "284/284 [==============================] - 0s 47us/sample - loss: 0.5773 - accuracy: 0.6831\n",
      "Epoch 13/90\n",
      "284/284 [==============================] - 0s 52us/sample - loss: 0.5704 - accuracy: 0.6866\n",
      "Epoch 14/90\n",
      "284/284 [==============================] - 0s 54us/sample - loss: 0.5647 - accuracy: 0.6831\n",
      "Epoch 15/90\n",
      "284/284 [==============================] - 0s 43us/sample - loss: 0.5590 - accuracy: 0.6831\n",
      "Epoch 16/90\n",
      "284/284 [==============================] - 0s 48us/sample - loss: 0.5533 - accuracy: 0.6831\n",
      "Epoch 17/90\n",
      "284/284 [==============================] - 0s 48us/sample - loss: 0.5474 - accuracy: 0.6831\n",
      "Epoch 18/90\n",
      "284/284 [==============================] - 0s 44us/sample - loss: 0.5435 - accuracy: 0.6972\n",
      "Epoch 19/90\n",
      "284/284 [==============================] - 0s 46us/sample - loss: 0.5388 - accuracy: 0.6937\n",
      "Epoch 20/90\n",
      "284/284 [==============================] - 0s 46us/sample - loss: 0.5337 - accuracy: 0.7077\n",
      "Epoch 21/90\n",
      "284/284 [==============================] - 0s 50us/sample - loss: 0.5304 - accuracy: 0.7218\n",
      "Epoch 22/90\n",
      "284/284 [==============================] - 0s 53us/sample - loss: 0.5264 - accuracy: 0.7359\n",
      "Epoch 23/90\n",
      "284/284 [==============================] - 0s 45us/sample - loss: 0.5230 - accuracy: 0.7359\n",
      "Epoch 24/90\n",
      "284/284 [==============================] - 0s 50us/sample - loss: 0.5197 - accuracy: 0.7289\n",
      "Epoch 25/90\n",
      "284/284 [==============================] - 0s 46us/sample - loss: 0.5165 - accuracy: 0.7359\n",
      "Epoch 26/90\n",
      "284/284 [==============================] - 0s 43us/sample - loss: 0.5136 - accuracy: 0.7394\n",
      "Epoch 27/90\n",
      "284/284 [==============================] - 0s 45us/sample - loss: 0.5108 - accuracy: 0.7324\n",
      "Epoch 28/90\n",
      "284/284 [==============================] - 0s 51us/sample - loss: 0.5082 - accuracy: 0.7324\n",
      "Epoch 29/90\n",
      "284/284 [==============================] - 0s 45us/sample - loss: 0.5060 - accuracy: 0.7430\n",
      "Epoch 30/90\n",
      "284/284 [==============================] - 0s 58us/sample - loss: 0.5037 - accuracy: 0.7430\n",
      "Epoch 31/90\n",
      "284/284 [==============================] - 0s 61us/sample - loss: 0.5017 - accuracy: 0.7465\n",
      "Epoch 32/90\n",
      "284/284 [==============================] - 0s 49us/sample - loss: 0.4990 - accuracy: 0.7430\n",
      "Epoch 33/90\n",
      "284/284 [==============================] - 0s 57us/sample - loss: 0.4970 - accuracy: 0.7394\n",
      "Epoch 34/90\n",
      "284/284 [==============================] - 0s 49us/sample - loss: 0.4947 - accuracy: 0.7465\n",
      "Epoch 35/90\n",
      "284/284 [==============================] - 0s 45us/sample - loss: 0.4926 - accuracy: 0.7500\n",
      "Epoch 36/90\n",
      "284/284 [==============================] - 0s 43us/sample - loss: 0.4911 - accuracy: 0.7570\n",
      "Epoch 37/90\n",
      "284/284 [==============================] - 0s 47us/sample - loss: 0.4903 - accuracy: 0.7535\n",
      "Epoch 38/90\n",
      "284/284 [==============================] - 0s 53us/sample - loss: 0.4870 - accuracy: 0.7570\n",
      "Epoch 39/90\n",
      "284/284 [==============================] - 0s 44us/sample - loss: 0.4872 - accuracy: 0.7500\n",
      "Epoch 40/90\n",
      "284/284 [==============================] - 0s 48us/sample - loss: 0.4844 - accuracy: 0.7570\n",
      "Epoch 41/90\n",
      "284/284 [==============================] - 0s 42us/sample - loss: 0.4840 - accuracy: 0.7641\n",
      "Epoch 42/90\n",
      "284/284 [==============================] - 0s 43us/sample - loss: 0.4806 - accuracy: 0.7535\n",
      "Epoch 43/90\n",
      "284/284 [==============================] - 0s 47us/sample - loss: 0.4803 - accuracy: 0.7782\n",
      "Epoch 44/90\n",
      "284/284 [==============================] - 0s 47us/sample - loss: 0.4780 - accuracy: 0.7782\n",
      "Epoch 45/90\n",
      "284/284 [==============================] - 0s 39us/sample - loss: 0.4766 - accuracy: 0.7817\n",
      "Epoch 46/90\n",
      "284/284 [==============================] - 0s 43us/sample - loss: 0.4745 - accuracy: 0.7817\n",
      "Epoch 47/90\n",
      "284/284 [==============================] - 0s 50us/sample - loss: 0.4742 - accuracy: 0.7782\n",
      "Epoch 48/90\n",
      "284/284 [==============================] - 0s 52us/sample - loss: 0.4724 - accuracy: 0.7887\n",
      "Epoch 49/90\n",
      "284/284 [==============================] - 0s 86us/sample - loss: 0.4713 - accuracy: 0.7852\n",
      "Epoch 50/90\n",
      "284/284 [==============================] - 0s 58us/sample - loss: 0.4691 - accuracy: 0.7852\n",
      "Epoch 51/90\n",
      "284/284 [==============================] - 0s 53us/sample - loss: 0.4675 - accuracy: 0.7852\n",
      "Epoch 52/90\n",
      "284/284 [==============================] - 0s 46us/sample - loss: 0.4665 - accuracy: 0.7852\n",
      "Epoch 53/90\n",
      "284/284 [==============================] - 0s 46us/sample - loss: 0.4656 - accuracy: 0.7852\n",
      "Epoch 54/90\n",
      "284/284 [==============================] - 0s 53us/sample - loss: 0.4635 - accuracy: 0.7958\n",
      "Epoch 55/90\n",
      "284/284 [==============================] - 0s 48us/sample - loss: 0.4628 - accuracy: 0.7923\n",
      "Epoch 56/90\n",
      "284/284 [==============================] - 0s 48us/sample - loss: 0.4615 - accuracy: 0.7958\n",
      "Epoch 57/90\n",
      "284/284 [==============================] - 0s 43us/sample - loss: 0.4612 - accuracy: 0.7923\n",
      "Epoch 58/90\n",
      "284/284 [==============================] - 0s 48us/sample - loss: 0.4591 - accuracy: 0.7887\n",
      "Epoch 59/90\n",
      "284/284 [==============================] - 0s 56us/sample - loss: 0.4572 - accuracy: 0.7887\n",
      "Epoch 60/90\n",
      "284/284 [==============================] - 0s 50us/sample - loss: 0.4570 - accuracy: 0.7782\n",
      "Epoch 61/90\n",
      "284/284 [==============================] - 0s 45us/sample - loss: 0.4553 - accuracy: 0.7852\n",
      "Epoch 62/90\n",
      "284/284 [==============================] - 0s 44us/sample - loss: 0.4572 - accuracy: 0.7746\n",
      "Epoch 63/90\n",
      "284/284 [==============================] - 0s 44us/sample - loss: 0.4529 - accuracy: 0.7852\n",
      "Epoch 64/90\n",
      "284/284 [==============================] - 0s 47us/sample - loss: 0.4522 - accuracy: 0.7923\n",
      "Epoch 65/90\n",
      "284/284 [==============================] - 0s 47us/sample - loss: 0.4512 - accuracy: 0.7958\n",
      "Epoch 66/90\n",
      "284/284 [==============================] - 0s 47us/sample - loss: 0.4495 - accuracy: 0.7993\n",
      "Epoch 67/90\n",
      "284/284 [==============================] - 0s 48us/sample - loss: 0.4482 - accuracy: 0.7993\n",
      "Epoch 68/90\n",
      "284/284 [==============================] - 0s 45us/sample - loss: 0.4469 - accuracy: 0.7993\n",
      "Epoch 69/90\n",
      "284/284 [==============================] - 0s 46us/sample - loss: 0.4462 - accuracy: 0.7923\n",
      "Epoch 70/90\n",
      "284/284 [==============================] - 0s 54us/sample - loss: 0.4455 - accuracy: 0.7923\n",
      "Epoch 71/90\n",
      "284/284 [==============================] - 0s 56us/sample - loss: 0.4440 - accuracy: 0.7993\n",
      "Epoch 72/90\n",
      "284/284 [==============================] - 0s 52us/sample - loss: 0.4435 - accuracy: 0.7923\n",
      "Epoch 73/90\n",
      "284/284 [==============================] - 0s 51us/sample - loss: 0.4424 - accuracy: 0.8028\n",
      "Epoch 74/90\n",
      "284/284 [==============================] - 0s 51us/sample - loss: 0.4405 - accuracy: 0.8099\n",
      "Epoch 75/90\n",
      "284/284 [==============================] - 0s 53us/sample - loss: 0.4398 - accuracy: 0.7887\n",
      "Epoch 76/90\n",
      "284/284 [==============================] - 0s 51us/sample - loss: 0.4382 - accuracy: 0.7852\n",
      "Epoch 77/90\n",
      "284/284 [==============================] - 0s 48us/sample - loss: 0.4373 - accuracy: 0.7923\n",
      "Epoch 78/90\n",
      "284/284 [==============================] - 0s 57us/sample - loss: 0.4363 - accuracy: 0.8028\n",
      "Epoch 79/90\n",
      "284/284 [==============================] - 0s 54us/sample - loss: 0.4346 - accuracy: 0.8028\n",
      "Epoch 80/90\n",
      "284/284 [==============================] - 0s 52us/sample - loss: 0.4329 - accuracy: 0.7958\n",
      "Epoch 81/90\n",
      "284/284 [==============================] - 0s 51us/sample - loss: 0.4319 - accuracy: 0.7958\n",
      "Epoch 82/90\n",
      "284/284 [==============================] - 0s 50us/sample - loss: 0.4313 - accuracy: 0.7958\n",
      "Epoch 83/90\n",
      "284/284 [==============================] - 0s 56us/sample - loss: 0.4304 - accuracy: 0.8063\n",
      "Epoch 84/90\n",
      "284/284 [==============================] - 0s 57us/sample - loss: 0.4296 - accuracy: 0.8099\n",
      "Epoch 85/90\n",
      "284/284 [==============================] - 0s 54us/sample - loss: 0.4301 - accuracy: 0.7852\n",
      "Epoch 86/90\n",
      "284/284 [==============================] - 0s 52us/sample - loss: 0.4269 - accuracy: 0.7887\n",
      "Epoch 87/90\n",
      "284/284 [==============================] - 0s 52us/sample - loss: 0.4256 - accuracy: 0.8028\n",
      "Epoch 88/90\n",
      "284/284 [==============================] - 0s 56us/sample - loss: 0.4254 - accuracy: 0.8063\n",
      "Epoch 89/90\n",
      "284/284 [==============================] - 0s 51us/sample - loss: 0.4243 - accuracy: 0.7993\n",
      "Epoch 90/90\n",
      "284/284 [==============================] - 0s 52us/sample - loss: 0.4220 - accuracy: 0.8028\n"
     ]
    },
    {
     "data": {
      "text/plain": [
       "<tensorflow.python.keras.callbacks.History at 0x1be5a151ec8>"
      ]
     },
     "execution_count": 21,
     "metadata": {},
     "output_type": "execute_result"
    }
   ],
   "source": [
    "model.fit(x_train, y_train,epochs=90)"
   ]
  },
  {
   "cell_type": "markdown",
   "id": "e23ac0a9-a783-41d6-8912-412e5005df9f",
   "metadata": {},
   "source": [
    "#### Testing the Model"
   ]
  },
  {
   "cell_type": "code",
   "execution_count": 22,
   "id": "d4e788b9-7524-46d2-9265-83af3fd69dcd",
   "metadata": {},
   "outputs": [
    {
     "name": "stdout",
     "output_type": "stream",
     "text": [
      "71/71 [==============================] - 0s 1ms/sample - loss: 0.6317 - accuracy: 0.7606\n",
      "\n",
      "Test loss: 0.63. Test accuracy: 76.06%\n"
     ]
    }
   ],
   "source": [
    "test_loss, test_accuracy = model.evaluate(x_test, y_test)\n",
    "print('\\nTest loss: {0:.2f}. Test accuracy: {1:.2f}%'.format(test_loss, test_accuracy*100.))"
   ]
  },
  {
   "cell_type": "code",
   "execution_count": 23,
   "id": "24ce431e-f70f-4655-b525-bb159329f7f6",
   "metadata": {},
   "outputs": [
    {
     "name": "stdout",
     "output_type": "stream",
     "text": [
      "[[26 10]\n",
      " [ 7 28]]\n"
     ]
    }
   ],
   "source": [
    "from sklearn.metrics import confusion_matrix, accuracy_score\n",
    "y_pred = model.predict(x_test)\n",
    "y_pred = (y_pred > 0.5)\n",
    "cm = confusion_matrix(y_test, y_pred)\n",
    "print(cm)"
   ]
  },
  {
   "cell_type": "markdown",
   "id": "4f2593bb-61cf-48b0-b7ed-9285ef925ef0",
   "metadata": {},
   "source": [
    "## Logistic Regression"
   ]
  },
  {
   "cell_type": "code",
   "execution_count": 24,
   "id": "05055d71-1c9b-4c7f-8a7e-d10bff51b029",
   "metadata": {},
   "outputs": [],
   "source": [
    "from sklearn.linear_model import LogisticRegression"
   ]
  },
  {
   "cell_type": "code",
   "execution_count": 25,
   "id": "86b2b409-aaa2-4592-bf0e-d2d8704656ec",
   "metadata": {},
   "outputs": [
    {
     "name": "stdout",
     "output_type": "stream",
     "text": [
      "Logistic Regression Classifier on scaled test data:\n",
      "Accuracy: 0.7746478873239436\n"
     ]
    }
   ],
   "source": [
    "logreg = LogisticRegression()\n",
    "logreg.fit(x_train,y_train)\n",
    "print(\"Logistic Regression Classifier on scaled test data:\")\n",
    "print(\"Accuracy:\", logreg.score(x_test, y_test))"
   ]
  },
  {
   "cell_type": "markdown",
   "id": "88439c9e-27d3-46fc-a972-4a58b46c1f45",
   "metadata": {},
   "source": [
    "## SVM"
   ]
  },
  {
   "cell_type": "code",
   "execution_count": 26,
   "id": "70b380a8-908f-468b-acb7-63845ad24fd5",
   "metadata": {},
   "outputs": [],
   "source": [
    "from sklearn.svm import SVC"
   ]
  },
  {
   "cell_type": "code",
   "execution_count": 27,
   "id": "4dbdc959-c4f5-42d7-bc4b-bc1e3f00ff5c",
   "metadata": {},
   "outputs": [
    {
     "name": "stdout",
     "output_type": "stream",
     "text": [
      "SVM Classifier on scaled test data:\n",
      "Accuracy: 0.7746478873239436\n"
     ]
    }
   ],
   "source": [
    "svc_clf = SVC(kernel = 'rbf')\n",
    "svc_clf.fit(x_train,y_train)\n",
    "print(\"SVM Classifier on scaled test data:\")\n",
    "print(\"Accuracy:\", svc_clf.score(x_test, y_test))"
   ]
  },
  {
   "cell_type": "markdown",
   "id": "67541c9f-c2f8-4c89-8c5e-940426dcca10",
   "metadata": {},
   "source": [
    "## Random Forest"
   ]
  },
  {
   "cell_type": "code",
   "execution_count": 28,
   "id": "45a39b2c-a06a-4561-bfec-d6e4b25e9aaa",
   "metadata": {},
   "outputs": [
    {
     "name": "stdout",
     "output_type": "stream",
     "text": [
      "Accuracy: 0.7323943661971831\n"
     ]
    }
   ],
   "source": [
    "from sklearn.ensemble import RandomForestClassifier\n",
    "clf3=RandomForestClassifier()\n",
    "clf3.fit(x_train,y_train)\n",
    "print('Accuracy:',accuracy_score(clf3.predict(x_test),y_test))"
   ]
  },
  {
   "cell_type": "markdown",
   "id": "973e9ca5-c0d2-47bc-878e-0302d977b558",
   "metadata": {},
   "source": [
    "#### The accuracy in all the 4 models is about 73-79%."
   ]
  },
  {
   "cell_type": "markdown",
   "id": "77625aa1-c11b-439a-8787-65df8b285efa",
   "metadata": {},
   "source": [
    "### We will use the ANN."
   ]
  },
  {
   "cell_type": "markdown",
   "id": "12454228-ba81-498a-85e3-3d423f2ecc3e",
   "metadata": {},
   "source": [
    "### Saving the model."
   ]
  },
  {
   "cell_type": "code",
   "execution_count": 29,
   "id": "619657cc-ca5c-4fd4-a33c-9fff410a2b5f",
   "metadata": {},
   "outputs": [],
   "source": [
    "model.save('model.h5') #Saving the model"
   ]
  },
  {
   "cell_type": "code",
   "execution_count": 30,
   "id": "4f9e4074-0fd4-44ec-acad-767d47c5f954",
   "metadata": {},
   "outputs": [],
   "source": [
    "import pickle  #saving the StandardScaler\n",
    "\n",
    "with open('scaler.pkl', 'wb') as f:\n",
    "    pickle.dump(sc, f)"
   ]
  }
 ],
 "metadata": {
  "kernelspec": {
   "display_name": "Python (tf2)",
   "language": "python",
   "name": "tf2"
  },
  "language_info": {
   "codemirror_mode": {
    "name": "ipython",
    "version": 3
   },
   "file_extension": ".py",
   "mimetype": "text/x-python",
   "name": "python",
   "nbconvert_exporter": "python",
   "pygments_lexer": "ipython3",
   "version": "3.7.12"
  }
 },
 "nbformat": 4,
 "nbformat_minor": 5
}
